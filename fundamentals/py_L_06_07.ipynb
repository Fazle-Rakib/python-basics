{
  "nbformat": 4,
  "nbformat_minor": 0,
  "metadata": {
    "colab": {
      "provenance": []
    },
    "kernelspec": {
      "name": "python3",
      "display_name": "Python 3"
    },
    "language_info": {
      "name": "python"
    }
  },
  "cells": [
    {
      "cell_type": "markdown",
      "source": [
        "* break & continue\n",
        "* else clause for loops\n",
        "* string manipulation with methods\n",
        "* split\n",
        "* Taking multiple user input at once\n",
        "* **Exercise**:\n",
        "```python\n",
        "distance(x1,y1,x2,y2),\n",
        "isDivisible(dividend, divisor),\n",
        "factorial(n),\n",
        "find_num_index(n)\n",
        "count_odd_numbers(),\n",
        "```\n",
        "* **Project**: Make a calculator by taking user input"
      ],
      "metadata": {
        "id": "VTEwgoDfRpSR"
      }
    },
    {
      "cell_type": "markdown",
      "source": [
        "## factorial()"
      ],
      "metadata": {
        "id": "5ku2HdxGPFf5"
      }
    },
    {
      "cell_type": "code",
      "source": [
        "# 5! = 5*4*3*2*1\n",
        "def factorial(n):\n",
        "  factorial_val = 1\n",
        "  for i in range(n, 0):\n",
        "    factorial_val *= i\n",
        "    print('inside loop:', i)\n",
        "  return factorial_val"
      ],
      "metadata": {
        "id": "Cj4ci6hpOxkx"
      },
      "execution_count": null,
      "outputs": []
    },
    {
      "cell_type": "code",
      "source": [
        "i = 0\n",
        "while i < 5:\n",
        "  print(i)\n",
        "  i+=1\n",
        "  print('Does the loop ends here?')\n",
        "print('Or does the loop ends here???')\n"
      ],
      "metadata": {
        "colab": {
          "base_uri": "https://localhost:8080/"
        },
        "id": "ExQKrj3ca45i",
        "outputId": "ffebbc04-cf6f-4de6-9e6c-677115084d72"
      },
      "execution_count": null,
      "outputs": [
        {
          "output_type": "stream",
          "name": "stdout",
          "text": [
            "0\n",
            "Does the loop ends here?\n",
            "1\n",
            "Does the loop ends here?\n",
            "2\n",
            "Does the loop ends here?\n",
            "3\n",
            "Does the loop ends here?\n",
            "4\n",
            "Does the loop ends here?\n",
            "Or does the loop ends here???\n"
          ]
        }
      ]
    },
    {
      "cell_type": "code",
      "source": [
        "result = factorial(5)\n",
        "print(result)"
      ],
      "metadata": {
        "colab": {
          "base_uri": "https://localhost:8080/"
        },
        "id": "N4KaNTWVXmn9",
        "outputId": "f79e0c30-d2ad-414b-dadf-9cbc08b21e95"
      },
      "execution_count": null,
      "outputs": [
        {
          "output_type": "stream",
          "name": "stdout",
          "text": [
            "1\n"
          ]
        }
      ]
    },
    {
      "cell_type": "code",
      "source": [
        "x = 2\n",
        "if x % 2 == 0:\n",
        "  print(f'x = {x} is a even number')"
      ],
      "metadata": {
        "id": "gUzioozrQDFP"
      },
      "execution_count": null,
      "outputs": []
    },
    {
      "cell_type": "markdown",
      "source": [
        "## break and continue statement"
      ],
      "metadata": {
        "id": "apgq4pOyYP_X"
      }
    },
    {
      "cell_type": "code",
      "source": [
        "num_list = [\n",
        "    951, 402, 984, 651, 360, 69, 408, 319, 601, 485, 980, 507, 725, 547, 544,\n",
        "    615, 83, 165, 141, 501, 263, 617, 865, 575, 219, 390, 984, 592, 236, 105, 942, 941,\n",
        "    386, 462, 47, 418, 907, 344, 236, 375, 823, 566, 597, 978, 328, 615, 953, 345,\n",
        "    399, 162, 758, 219, 918, 237, 412, 566, 826, 248, 866, 950, 626, 949, 687, 217,\n",
        "    815, 67, 104, 58, 512, 24, 892, 894, 767, 553, 81, 379, 843, 831, 445, 742, 717,\n",
        "    958, 609, 842, 451, 688, 753, 854, 685, 93, 857, 440, 380, 126, 721, 328, 753, 470,\n",
        "    743, 527\n",
        "]\n",
        "print(len(num_list))"
      ],
      "metadata": {
        "colab": {
          "base_uri": "https://localhost:8080/"
        },
        "id": "VK_ajlq1YTMJ",
        "outputId": "573e6467-cba8-4b8d-98c1-d43ec0cdda07"
      },
      "execution_count": 4,
      "outputs": [
        {
          "output_type": "stream",
          "name": "stdout",
          "text": [
            "100\n"
          ]
        }
      ]
    },
    {
      "cell_type": "code",
      "source": [
        "# TASK#01: Find out the first index of 412 from the num_list => find_num_index(n)\n",
        "def find_num_index(search_num):\n",
        "  index = 0\n",
        "  for num in num_list:\n",
        "    print(index)\n",
        "    if num == search_num:\n",
        "      print(f\"{search_num} index in the list: {index}\")\n",
        "      break\n",
        "    index += 1"
      ],
      "metadata": {
        "id": "TAO-IgZodG_Y"
      },
      "execution_count": 7,
      "outputs": []
    },
    {
      "cell_type": "code",
      "source": [
        "find_num_index(412)"
      ],
      "metadata": {
        "id": "eKFnM5Tmd0N_"
      },
      "execution_count": null,
      "outputs": []
    },
    {
      "cell_type": "code",
      "source": [
        "# TASK#02: Find out count of odd numbers num_list\n",
        "num_list = range(2,8)\n",
        "print(*num_list)\n",
        "\n",
        "def count_odd_num():\n",
        "  count = 0\n",
        "  for num in num_list:\n",
        "    print(num)\n",
        "    if num % 2 == 0:\n",
        "      print(num, 'Before continue')\n",
        "      continue\n",
        "      print('After continue')\n",
        "\n",
        "    print('Outside if clause')\n",
        "\n",
        "    count += 1\n",
        "  return count\n",
        "\n",
        "count = count_odd_num()\n",
        "\n",
        "print('# of Odd numbers in list: ', count)"
      ],
      "metadata": {
        "colab": {
          "base_uri": "https://localhost:8080/"
        },
        "id": "WjwGCDGgzS8l",
        "outputId": "931bcb0b-e04e-4df4-e15f-cce0bc51e121"
      },
      "execution_count": 53,
      "outputs": [
        {
          "output_type": "stream",
          "name": "stdout",
          "text": [
            "2 3 4 5 6 7\n",
            "2\n",
            "2 Before continue\n",
            "3\n",
            "Outside if clause\n",
            "4\n",
            "4 Before continue\n",
            "5\n",
            "Outside if clause\n",
            "6\n",
            "6 Before continue\n",
            "7\n",
            "Outside if clause\n",
            "# of Odd numbers in list:  3\n"
          ]
        }
      ]
    },
    {
      "cell_type": "code",
      "source": [
        "# else clause in for loops\n",
        "for i in range(1,3):\n",
        "  print(i)\n",
        "  continue\n",
        "else:\n",
        "  print('For ends and now else is in run')"
      ],
      "metadata": {
        "colab": {
          "base_uri": "https://localhost:8080/"
        },
        "id": "ER63my-B3JyJ",
        "outputId": "e6137eca-3644-4d9d-9322-3f7b0dcd5183"
      },
      "execution_count": 20,
      "outputs": [
        {
          "output_type": "stream",
          "name": "stdout",
          "text": [
            "1\n",
            "2\n",
            "For ends and now else is in run\n"
          ]
        }
      ]
    },
    {
      "cell_type": "markdown",
      "source": [
        "## split function\n"
      ],
      "metadata": {
        "id": "iqGX0v0kWVVx"
      }
    },
    {
      "cell_type": "code",
      "source": [
        "random_str = \"I am python. I am almost 28 years old\"\n",
        "# print(type(random_str))\n",
        "# print(random_str[2:5])\n",
        "# print('pythn' in random_str)\n",
        "# print(random_str[::-1])\n",
        "# print(random_str.startswith('1'))\n",
        "# print(random_str.endswith('old'))\n",
        "# print(random_str.split(\"am\"))"
      ],
      "metadata": {
        "id": "bnXDrQXIbcfr",
        "colab": {
          "base_uri": "https://localhost:8080/"
        },
        "outputId": "54b3d295-dac8-4d81-caa1-2e0fef7779ad"
      },
      "execution_count": 40,
      "outputs": [
        {
          "output_type": "stream",
          "name": "stdout",
          "text": [
            "['I ', ' python. I ', ' almost 28 years old']\n"
          ]
        }
      ]
    },
    {
      "cell_type": "markdown",
      "source": [
        "## Task#03: Make a calculator taking user inputs"
      ],
      "metadata": {
        "id": "Kickj4N2LqYb"
      }
    },
    {
      "cell_type": "code",
      "source": [
        "operation = input('Enter +,-,/,*: ')\n",
        "inputs = input('Enter two numbers: ')"
      ],
      "metadata": {
        "colab": {
          "base_uri": "https://localhost:8080/"
        },
        "id": "wGdO-q0O4-Rf",
        "outputId": "b63d7aa5-87fc-48ec-8907-9f43309ceafd"
      },
      "execution_count": 51,
      "outputs": [
        {
          "name": "stdout",
          "output_type": "stream",
          "text": [
            "Enter +,-,/,*: +\n",
            "Enter two numbers: 2 4\n"
          ]
        }
      ]
    },
    {
      "cell_type": "code",
      "source": [
        "print(operation, inputs)"
      ],
      "metadata": {
        "colab": {
          "base_uri": "https://localhost:8080/"
        },
        "id": "Af-yI-Vg6cBl",
        "outputId": "0a5b9f89-468d-4746-d3b8-0321ffa4f4d6"
      },
      "execution_count": 52,
      "outputs": [
        {
          "output_type": "stream",
          "name": "stdout",
          "text": [
            "+ 2 4\n"
          ]
        }
      ]
    },
    {
      "cell_type": "code",
      "source": [
        "numbers = inputs.split(' ')\n",
        "x = int(numbers[0])\n",
        "y = int(numbers[1])\n",
        "x,y"
      ],
      "metadata": {
        "colab": {
          "base_uri": "https://localhost:8080/"
        },
        "id": "6GcRCBUv6n1K",
        "outputId": "0d2741f9-df2d-4932-c4c1-e7737d6c9c4c"
      },
      "execution_count": 50,
      "outputs": [
        {
          "output_type": "execute_result",
          "data": {
            "text/plain": [
              "(2, 3)"
            ]
          },
          "metadata": {},
          "execution_count": 50
        }
      ]
    }
  ]
}