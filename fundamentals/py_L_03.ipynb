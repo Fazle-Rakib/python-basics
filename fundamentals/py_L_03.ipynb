{
  "cells": [
    {
      "cell_type": "markdown",
      "metadata": {
        "id": "SCYS8lSiFUwh"
      },
      "source": [
        "\n",
        "\n",
        "*   If-elif-else\n",
        "*   List\n",
        "*   for loop\n",
        "*   Printing var with {}\n",
        "*   Indentation\n",
        "*   strings\n",
        "*   Tuples\n",
        "*   inputs"
      ]
    },
    {
      "cell_type": "markdown",
      "metadata": {
        "id": "h7To2ICyZj5f"
      },
      "source": [
        "## if-elif-else statement"
      ]
    },
    {
      "cell_type": "code",
      "execution_count": null,
      "metadata": {
        "id": "9_81ljV-HRPN"
      },
      "outputs": [],
      "source": [
        "name = 'Rahat'\n",
        "if name == 'Rahat':\n",
        "  print('Hello Rahat!')\n",
        "if name == 'Sony':\n",
        "  print('Hello Sony')\n",
        "elif name == 'Risita':\n",
        "  print('Hello Risita')\n",
        "else:\n",
        "  print('Who are you then?')"
      ]
    },
    {
      "cell_type": "markdown",
      "metadata": {
        "id": "D0BGLQctL_Td"
      },
      "source": [
        "## Printing in a different way"
      ]
    },
    {
      "cell_type": "code",
      "execution_count": 8,
      "metadata": {
        "colab": {
          "base_uri": "https://localhost:8080/"
        },
        "id": "Cjhf1-L5LzIq",
        "outputId": "c424b0f9-d063-4a67-f915-109558ed6384"
      },
      "outputs": [
        {
          "name": "stdout",
          "output_type": "stream",
          "text": [
            "My name is Qahat. I am 25 years old\n"
          ]
        }
      ],
      "source": [
        "name = 'Qahat'\n",
        "age = 25\n",
        "print(f'My name is {name}. I am {age} years old')"
      ]
    },
    {
      "cell_type": "markdown",
      "metadata": {
        "id": "mey2SzVjZSOO"
      },
      "source": [
        "## Solving a problem with for, if-else, and list update statement"
      ]
    },
    {
      "cell_type": "code",
      "execution_count": 12,
      "metadata": {
        "colab": {
          "base_uri": "https://localhost:8080/"
        },
        "id": "8nef6l-uPCmr",
        "outputId": "d6fb749e-913f-40c2-95b3-a2ad99d35690"
      },
      "outputs": [
        {
          "data": {
            "text/plain": [
              "['Rice', 'Dal', 'Onion', 'Soya-oil']"
            ]
          },
          "execution_count": 12,
          "metadata": {},
          "output_type": "execute_result"
        }
      ],
      "source": [
        "groceries = ['Rice', 'Dal', 'Onion', 'Oil']\n",
        "groceries[3] = 'Soya-oil'\n",
        "groceries"
      ]
    },
    {
      "cell_type": "code",
      "execution_count": 21,
      "metadata": {
        "colab": {
          "base_uri": "https://localhost:8080/"
        },
        "id": "UK2h9sZyHdq9",
        "outputId": "3ecb706b-9c2f-40cf-8f52-e7c5151b0e91"
      },
      "outputs": [
        {
          "name": "stdout",
          "output_type": "stream",
          "text": [
            "['Lentil', 'Rice', 'Lentil', 'Onion', 'Lentil', 'Oil', 'Lentil', 'Lentil']\n"
          ]
        }
      ],
      "source": [
        "groceries = ['Dal','Rice', 'Dal', 'Onion','Dal', 'Oil','Dal', 'Dal']\n",
        "for index, item in enumerate(groceries):\n",
        "  # print(f'Item in {index} is: {groceries[index]}')\n",
        "  # print(groceries[index])\n",
        "  if groceries[index] == 'Dal':\n",
        "    groceries[index] = 'Lentil'\n",
        "print(groceries)"
      ]
    },
    {
      "cell_type": "markdown",
      "metadata": {
        "id": "VkYermvCVYV5"
      },
      "source": [
        "## Indentation"
      ]
    },
    {
      "cell_type": "code",
      "execution_count": 16,
      "metadata": {
        "colab": {
          "base_uri": "https://localhost:8080/"
        },
        "id": "fMTpBPv8VXhO",
        "outputId": "e2f98276-f6f8-4ebf-df57-ebab7aee2022"
      },
      "outputs": [
        {
          "name": "stdout",
          "output_type": "stream",
          "text": [
            "Inside block\n",
            "Outside block\n",
            "Inside block\n",
            "Outside block\n",
            "Inside block\n",
            "Outside block\n",
            "Here you go 2\n",
            "Inside block\n",
            "Outside block\n"
          ]
        }
      ],
      "source": [
        "\n",
        "for i in range(4):\n",
        "  # print(i)\n",
        "  print('Inside block')\n",
        "  print('Outside block')\n",
        "  if i == 2:\n",
        "    print('Here you go 2')"
      ]
    },
    {
      "cell_type": "markdown",
      "metadata": {
        "id": "rnF53bK4Zg0m"
      },
      "source": [
        "## List"
      ]
    },
    {
      "cell_type": "code",
      "execution_count": 22,
      "metadata": {
        "id": "L58sPpaBDR_4"
      },
      "outputs": [],
      "source": [
        "groceries = ['Rice', 'Dal', 'Onion', 'Oil']"
      ]
    },
    {
      "cell_type": "markdown",
      "metadata": {
        "id": "B__wpfOIboaJ"
      },
      "source": [
        "### List manipulation"
      ]
    },
    {
      "cell_type": "code",
      "execution_count": 24,
      "metadata": {
        "colab": {
          "base_uri": "https://localhost:8080/"
        },
        "id": "GISEA4K0bn79",
        "outputId": "8edb3411-121e-4681-f5e3-e3d2d59e2d80"
      },
      "outputs": [
        {
          "data": {
            "text/plain": [
              "[1, 'hi', 2.4, ['Rice', 'Dal', 'Onion', 'Oil']]"
            ]
          },
          "execution_count": 24,
          "metadata": {},
          "output_type": "execute_result"
        }
      ],
      "source": [
        "random_obj_list = [1, 'hi', 2.40, groceries]\n",
        "random_obj_list"
      ]
    },
    {
      "cell_type": "code",
      "execution_count": 27,
      "metadata": {
        "colab": {
          "base_uri": "https://localhost:8080/"
        },
        "id": "rs4584Zce864",
        "outputId": "67886937-936f-48aa-fcac-b1fb85f91360"
      },
      "outputs": [
        {
          "name": "stdout",
          "output_type": "stream",
          "text": [
            "[80, 81, 82, 83, 84, 85, 86, 87, 88, 89, 90, 91, 92, 93, 94, 95, 96, 97, 98, 99]\n"
          ]
        }
      ],
      "source": [
        "student_marks_of_PP_02 = list(range(80,100))\n",
        "print(student_marks_of_PP_02)"
      ]
    },
    {
      "cell_type": "code",
      "execution_count": 28,
      "metadata": {
        "colab": {
          "base_uri": "https://localhost:8080/"
        },
        "id": "RrSVj05qfQw6",
        "outputId": "e34d0bcf-e3bb-4e32-d729-3de3695e87ed"
      },
      "outputs": [
        {
          "data": {
            "text/plain": [
              "84"
            ]
          },
          "execution_count": 28,
          "metadata": {},
          "output_type": "execute_result"
        }
      ],
      "source": [
        "student_marks_of_PP_02[4]"
      ]
    },
    {
      "cell_type": "code",
      "execution_count": 29,
      "metadata": {
        "colab": {
          "base_uri": "https://localhost:8080/"
        },
        "id": "iE6X9chefnJB",
        "outputId": "c9104220-3a08-4ed9-a508-0d63ce15104b"
      },
      "outputs": [
        {
          "data": {
            "text/plain": [
              "[80, 81, 82, 83]"
            ]
          },
          "execution_count": 29,
          "metadata": {},
          "output_type": "execute_result"
        }
      ],
      "source": [
        "student_marks_of_PP_02[0:4]"
      ]
    },
    {
      "cell_type": "code",
      "execution_count": 33,
      "metadata": {
        "colab": {
          "base_uri": "https://localhost:8080/"
        },
        "id": "dbqtRjyugQya",
        "outputId": "3209e8e2-4a45-4cb2-c847-8269f4e8767f"
      },
      "outputs": [
        {
          "data": {
            "text/plain": [
              "[]"
            ]
          },
          "execution_count": 33,
          "metadata": {},
          "output_type": "execute_result"
        }
      ],
      "source": [
        "student_marks_of_PP_02[-5:-1]"
      ]
    },
    {
      "cell_type": "code",
      "execution_count": 34,
      "metadata": {
        "colab": {
          "base_uri": "https://localhost:8080/"
        },
        "id": "ImCqwDXdg25R",
        "outputId": "8f26b072-3d94-48b1-d516-91f91ccec850"
      },
      "outputs": [
        {
          "data": {
            "text/plain": [
              "[95, 96, 97, 98, 99]"
            ]
          },
          "execution_count": 34,
          "metadata": {},
          "output_type": "execute_result"
        }
      ],
      "source": [
        "student_marks_of_PP_02[-5:]"
      ]
    },
    {
      "cell_type": "code",
      "execution_count": 35,
      "metadata": {
        "colab": {
          "base_uri": "https://localhost:8080/"
        },
        "id": "nLpdr234hGmF",
        "outputId": "a02755e6-25b0-42e4-91dc-245ffe5f5782"
      },
      "outputs": [
        {
          "data": {
            "text/plain": [
              "[80, 81, 82, 83, 84, 85, 86, 87, 88, 89, 90, 91, 92, 93, 94]"
            ]
          },
          "execution_count": 35,
          "metadata": {},
          "output_type": "execute_result"
        }
      ],
      "source": [
        "student_marks_of_PP_02[:-5]"
      ]
    },
    {
      "cell_type": "code",
      "execution_count": null,
      "metadata": {
        "id": "Ksb69ZBihUIe"
      },
      "outputs": [],
      "source": [
        "student_marks_of_PP_02[:]"
      ]
    },
    {
      "cell_type": "code",
      "execution_count": 40,
      "metadata": {
        "colab": {
          "base_uri": "https://localhost:8080/"
        },
        "id": "JMlUzy9_hh5m",
        "outputId": "24ce61fa-ae5e-46c8-a5db-52df675af433"
      },
      "outputs": [
        {
          "name": "stdout",
          "output_type": "stream",
          "text": [
            "[80, 81, 82, 83, 84, 85, 86, 87, 88, 89, 90, 91, 92, 93, 94, 95, 96, 97, 98, 99]\n"
          ]
        },
        {
          "data": {
            "text/plain": [
              "[80, 83]"
            ]
          },
          "execution_count": 40,
          "metadata": {},
          "output_type": "execute_result"
        }
      ],
      "source": [
        "print(student_marks_of_PP_02)\n",
        "student_marks_of_PP_02[:5:3]"
      ]
    },
    {
      "cell_type": "code",
      "execution_count": 43,
      "metadata": {
        "id": "g3CIMnCviLD7"
      },
      "outputs": [],
      "source": [
        "student_marks_of_PP_02.remove(82)\n",
        "student_marks_of_PP_02.remove(85)\n",
        "student_marks_of_PP_02.remove(87)"
      ]
    },
    {
      "cell_type": "code",
      "execution_count": 44,
      "metadata": {
        "colab": {
          "base_uri": "https://localhost:8080/"
        },
        "id": "5RRh2mVKiZwM",
        "outputId": "f4811802-2117-4b70-8ac1-5406a49b4757"
      },
      "outputs": [
        {
          "data": {
            "text/plain": [
              "[80, 81, 83, 84, 86, 88, 89, 90, 91, 92, 93, 94, 95, 96, 97, 98, 99]"
            ]
          },
          "execution_count": 44,
          "metadata": {},
          "output_type": "execute_result"
        }
      ],
      "source": [
        "student_marks_of_PP_02"
      ]
    },
    {
      "cell_type": "code",
      "execution_count": 46,
      "metadata": {
        "colab": {
          "base_uri": "https://localhost:8080/"
        },
        "id": "JK-poSkbigsa",
        "outputId": "f054424c-ba40-45d5-a033-fdf278649395"
      },
      "outputs": [
        {
          "data": {
            "text/plain": [
              "False"
            ]
          },
          "execution_count": 46,
          "metadata": {},
          "output_type": "execute_result"
        }
      ],
      "source": [
        "82 in student_marks_of_PP_02"
      ]
    },
    {
      "cell_type": "code",
      "execution_count": 48,
      "metadata": {
        "colab": {
          "base_uri": "https://localhost:8080/"
        },
        "id": "w9tzdMz5iwLj",
        "outputId": "1bf8f4b4-6dae-4816-8456-2e49f0d0f322"
      },
      "outputs": [
        {
          "name": "stdout",
          "output_type": "stream",
          "text": [
            "[80, 81, 83, 84, 86, 88, 89, 90, 91, 92, 93, 94, 95, 96, 97, 98, 99]\n",
            "[80, 81, 83, 97, 98, 99]\n"
          ]
        }
      ],
      "source": [
        "print(student_marks_of_PP_02)\n",
        "list_1 = student_marks_of_PP_02[0:3]\n",
        "list_2 = student_marks_of_PP_02[-3:]\n",
        "added_list = list_1 + list_2\n",
        "print(added_list)"
      ]
    },
    {
      "cell_type": "code",
      "execution_count": 51,
      "metadata": {
        "colab": {
          "base_uri": "https://localhost:8080/"
        },
        "id": "j13pDZ6fj3Jg",
        "outputId": "12a4063b-c8f0-4fe0-891c-cedf57dbdb08"
      },
      "outputs": [
        {
          "name": "stdout",
          "output_type": "stream",
          "text": [
            "17\n",
            "99\n",
            "80\n"
          ]
        }
      ],
      "source": [
        "print(len(student_marks_of_PP_02))\n",
        "print(max(student_marks_of_PP_02))\n",
        "print(min(student_marks_of_PP_02))"
      ]
    },
    {
      "cell_type": "code",
      "execution_count": 54,
      "metadata": {
        "colab": {
          "base_uri": "https://localhost:8080/"
        },
        "id": "-rkPg1zckjjZ",
        "outputId": "8cfd1f72-2840-43f8-a7ca-9abb0fd32716"
      },
      "outputs": [
        {
          "data": {
            "text/plain": [
              "[80, 81, 57, 85, 34, 88, 89, 90, 91, 92, 93, 94, 95, 96, 97, 98, 99]"
            ]
          },
          "execution_count": 54,
          "metadata": {},
          "output_type": "execute_result"
        }
      ],
      "source": [
        "student_marks_of_PP_02[2:5] = [57,85,34]\n",
        "student_marks_of_PP_02"
      ]
    },
    {
      "cell_type": "code",
      "execution_count": 58,
      "metadata": {
        "id": "D8JUFZkulFqj"
      },
      "outputs": [],
      "source": [
        "student_marks_of_PP_02.sort(reverse = True)"
      ]
    },
    {
      "cell_type": "code",
      "execution_count": 59,
      "metadata": {
        "colab": {
          "base_uri": "https://localhost:8080/"
        },
        "id": "vaC7YBq8lIug",
        "outputId": "dd23e40e-fc94-4f8b-b107-568ddb76768b"
      },
      "outputs": [
        {
          "data": {
            "text/plain": [
              "[99, 98, 97, 96, 95, 94, 93, 92, 91, 90, 89, 88, 85, 81, 80, 57, 34]"
            ]
          },
          "execution_count": 59,
          "metadata": {},
          "output_type": "execute_result"
        }
      ],
      "source": [
        "student_marks_of_PP_02"
      ]
    },
    {
      "cell_type": "markdown",
      "metadata": {
        "id": "uUqmLdTOmlSP"
      },
      "source": [
        "## String manipulation with : operator"
      ]
    },
    {
      "cell_type": "code",
      "execution_count": 68,
      "metadata": {
        "colab": {
          "base_uri": "https://localhost:8080/",
          "height": 35
        },
        "id": "zeasCsN2ly7U",
        "outputId": "17534f93-d802-46f8-8dc9-6e74d6813868"
      },
      "outputs": [
        {
          "data": {
            "application/vnd.google.colaboratory.intrinsic+json": {
              "type": "string"
            },
            "text/plain": [
              "'MyJoy'"
            ]
          },
          "execution_count": 68,
          "metadata": {},
          "output_type": "execute_result"
        }
      ],
      "source": [
        "plain_text = 'My name is Joy'\n",
        "plain_text[:2] + plain_text[-3:]"
      ]
    },
    {
      "cell_type": "markdown",
      "metadata": {
        "id": "Z9Vf9Tagm32B"
      },
      "source": [
        "## Tuple"
      ]
    },
    {
      "cell_type": "code",
      "execution_count": 70,
      "metadata": {
        "colab": {
          "base_uri": "https://localhost:8080/"
        },
        "id": "N431d8pWm2_R",
        "outputId": "eb7ec95b-e358-48a4-e0da-2908a12f4ace"
      },
      "outputs": [
        {
          "name": "stdout",
          "output_type": "stream",
          "text": [
            "3.1416\n"
          ]
        }
      ],
      "source": [
        "my_first_tuple = (3.1416, 9.81, 365, 30, 7, 24)\n",
        "print(my_first_tuple[0])"
      ]
    },
    {
      "cell_type": "code",
      "execution_count": 72,
      "metadata": {
        "colab": {
          "base_uri": "https://localhost:8080/"
        },
        "id": "3F_Yu5monjDv",
        "outputId": "768712ce-7a6b-40f3-d955-5036be594d0a"
      },
      "outputs": [
        {
          "name": "stdout",
          "output_type": "stream",
          "text": [
            "(3.1416, 9.81)\n",
            "(7, 24)\n"
          ]
        }
      ],
      "source": [
        "print(my_first_tuple[0:2])\n",
        "print(my_first_tuple[-2:])"
      ]
    },
    {
      "cell_type": "code",
      "execution_count": null,
      "metadata": {
        "id": "sNJGF0iYnpfb"
      },
      "outputs": [],
      "source": [
        "# Tuples are immutable\n",
        "my_first_tuple[1] = 4.9"
      ]
    },
    {
      "cell_type": "markdown",
      "metadata": {
        "id": "Xv0QayqHoNCi"
      },
      "source": [
        "## Inputs"
      ]
    },
    {
      "cell_type": "code",
      "execution_count": 75,
      "metadata": {
        "colab": {
          "base_uri": "https://localhost:8080/"
        },
        "id": "OspBMCdToO5_",
        "outputId": "102b27e8-71fc-4cd7-afea-cfe1be291ceb"
      },
      "outputs": [
        {
          "name": "stdout",
          "output_type": "stream",
          "text": [
            "What is your name?Rakib\n",
            "Hello! Rakib\n"
          ]
        }
      ],
      "source": [
        "name = input(\"What is your name?\")\n",
        "print(f\"Hello! {name}\")"
      ]
    },
    {
      "cell_type": "code",
      "execution_count": 78,
      "metadata": {
        "colab": {
          "base_uri": "https://localhost:8080/"
        },
        "id": "uodge8R3o0UJ",
        "outputId": "ac3934f9-2480-45ee-f5c7-a999f06eca30"
      },
      "outputs": [
        {
          "name": "stdout",
          "output_type": "stream",
          "text": [
            "Give length of a side of a square: 12\n",
            "<class 'str'>\n",
            "Here is the area of your square: 144\n"
          ]
        }
      ],
      "source": [
        "side_of_square = input(\"Give length of a side of a square: \")\n",
        "print(type(side_of_square))\n",
        "square_area = int(side_of_square) * int(side_of_square)\n",
        "print(f'Here is the area of your square: {square_area}')"
      ]
    }
  ],
  "metadata": {
    "colab": {
      "provenance": []
    },
    "kernelspec": {
      "display_name": "Python 3",
      "name": "python3"
    },
    "language_info": {
      "name": "python"
    }
  },
  "nbformat": 4,
  "nbformat_minor": 0
}
