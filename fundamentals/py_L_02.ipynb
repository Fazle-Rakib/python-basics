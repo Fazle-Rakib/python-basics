{
  "nbformat": 4,
  "nbformat_minor": 0,
  "metadata": {
    "colab": {
      "provenance": []
    },
    "kernelspec": {
      "name": "python3",
      "display_name": "Python 3"
    },
    "language_info": {
      "name": "python"
    }
  },
  "cells": [
    {
      "cell_type": "markdown",
      "source": [
        "Commenting\n",
        "\n",
        "Variables\n",
        "\n",
        "Assign multiple variables\n",
        "\n",
        "Data types\n",
        "\n",
        "Type casting\n",
        "\n",
        "Numbers\n",
        "\n",
        "Strings"
      ],
      "metadata": {
        "id": "nCpgVEQlzgaj"
      }
    },
    {
      "cell_type": "markdown",
      "source": [
        "# Learn commenting with python"
      ],
      "metadata": {
        "id": "oyWKIULX20dw"
      }
    },
    {
      "cell_type": "code",
      "execution_count": null,
      "metadata": {
        "id": "0nuYqS8IzfGx",
        "colab": {
          "base_uri": "https://localhost:8080/"
        },
        "outputId": "fb997ef5-cf6b-4f60-ee0e-fdd47eef25b9"
      },
      "outputs": [
        {
          "output_type": "stream",
          "name": "stdout",
          "text": [
            "201\n"
          ]
        }
      ],
      "source": [
        "# Assigning a numerical value to a variable.\n",
        "# Then printning the variable to show the value\n",
        "class_room = 201\n",
        "print(class_room)"
      ]
    },
    {
      "cell_type": "code",
      "source": [
        "\"\"\"\n",
        "This a multi-line comment with:\n",
        "\"\"\n",
        "\"\"\"\n",
        "class_room = 201\n",
        "print(class_room)"
      ],
      "metadata": {
        "colab": {
          "base_uri": "https://localhost:8080/"
        },
        "id": "tRwbDs0c4vDi",
        "outputId": "78e342f2-7e26-49d4-bdba-afd2413cc400"
      },
      "execution_count": null,
      "outputs": [
        {
          "output_type": "stream",
          "name": "stdout",
          "text": [
            "201\n"
          ]
        }
      ]
    },
    {
      "cell_type": "code",
      "source": [
        "'''\n",
        "This a\n",
        "multi-line comment\n",
        "'''\n",
        "class_room = 201\n",
        "print(class_room)"
      ],
      "metadata": {
        "colab": {
          "base_uri": "https://localhost:8080/"
        },
        "id": "c5Q-tLFH45zO",
        "outputId": "79cacd13-074d-4732-fcd8-8c0e24ad939e"
      },
      "execution_count": null,
      "outputs": [
        {
          "output_type": "stream",
          "name": "stdout",
          "text": [
            "201\n"
          ]
        }
      ]
    },
    {
      "cell_type": "markdown",
      "source": [
        "# Variables"
      ],
      "metadata": {
        "id": "v8LZDJMm5iJg"
      }
    },
    {
      "cell_type": "markdown",
      "source": [
        "## Data_types"
      ],
      "metadata": {
        "id": "Dkrkgc076reV"
      }
    },
    {
      "cell_type": "code",
      "source": [
        "class_room = 201\n",
        "marks = 89.99999\n",
        "student_name = \"Rahimul\"\n",
        "print(type(student_name))"
      ],
      "metadata": {
        "colab": {
          "base_uri": "https://localhost:8080/"
        },
        "id": "y2mlaN4m5gN-",
        "outputId": "f8631dd5-6ff2-4aab-d2bd-f1c2219dc06a"
      },
      "execution_count": null,
      "outputs": [
        {
          "output_type": "stream",
          "name": "stdout",
          "text": [
            "<class 'str'>\n"
          ]
        }
      ]
    },
    {
      "cell_type": "markdown",
      "source": [
        "## Type casting"
      ],
      "metadata": {
        "id": "QGNwksy47AgN"
      }
    },
    {
      "cell_type": "code",
      "source": [
        "marks = 89\n",
        "marks_in_string = str(marks)\n",
        "print(marks, type(marks))\n",
        "print(marks_in_string, type(marks_in_string))"
      ],
      "metadata": {
        "colab": {
          "base_uri": "https://localhost:8080/"
        },
        "id": "OVZKnoGL6xaK",
        "outputId": "d0707e13-60df-48b5-acc2-c45bde8a7cbb"
      },
      "execution_count": null,
      "outputs": [
        {
          "output_type": "stream",
          "name": "stdout",
          "text": [
            "89 <class 'int'>\n",
            "89 <class 'str'>\n"
          ]
        }
      ]
    },
    {
      "cell_type": "markdown",
      "source": [
        "## Varibale naming"
      ],
      "metadata": {
        "id": "wKbbB2iz9aLR"
      }
    },
    {
      "cell_type": "code",
      "source": [
        "# snake_case\n",
        "marks_in_strings = '89'\n",
        "\n",
        "# camelCase\n",
        "marksInString = '89'\n",
        "\n",
        "# PascelCase\n",
        "MarksInStrings = '89'"
      ],
      "metadata": {
        "id": "9pgXeNhx9ZyZ"
      },
      "execution_count": null,
      "outputs": []
    },
    {
      "cell_type": "code",
      "source": [
        "# Can't start with number\n",
        "# 2inInt = 2\n",
        "IntValOf2 = 2"
      ],
      "metadata": {
        "id": "4qvFFv8i_1CP"
      },
      "execution_count": null,
      "outputs": []
    },
    {
      "cell_type": "code",
      "source": [
        "# Naming in case-sensitive\n",
        "name = 'Akhalia'\n",
        "print(name)"
      ],
      "metadata": {
        "colab": {
          "base_uri": "https://localhost:8080/"
        },
        "id": "G0kirgeJAquY",
        "outputId": "615e76ea-7917-48ab-a362-16a09576e026"
      },
      "execution_count": null,
      "outputs": [
        {
          "output_type": "stream",
          "name": "stdout",
          "text": [
            "Akhalia\n"
          ]
        }
      ]
    },
    {
      "cell_type": "code",
      "source": [
        "# Just accept _ while declaring a var, no other special char)[_@#$%^&*]\n",
        "# flt%var"
      ],
      "metadata": {
        "id": "oxwI_g12BHBH"
      },
      "execution_count": null,
      "outputs": []
    },
    {
      "cell_type": "markdown",
      "source": [
        "## More data types [list, tuple, dictionary, set]"
      ],
      "metadata": {
        "id": "ftU9xJAIU_gr"
      }
    },
    {
      "cell_type": "code",
      "source": [
        "groceries = ['Rice', 'Dal', 'Onion', 'Oil']\n",
        "print(type(groceries))"
      ],
      "metadata": {
        "colab": {
          "base_uri": "https://localhost:8080/"
        },
        "id": "DTn3FpC_U-Sp",
        "outputId": "f87af791-3ed5-48bc-a825-d46e29fc00f1"
      },
      "execution_count": null,
      "outputs": [
        {
          "output_type": "stream",
          "name": "stdout",
          "text": [
            "<class 'list'>\n"
          ]
        }
      ]
    },
    {
      "cell_type": "code",
      "source": [
        "groceries.append('Salt')\n",
        "print(groceries)"
      ],
      "metadata": {
        "colab": {
          "base_uri": "https://localhost:8080/"
        },
        "id": "MnIbU_coVhVe",
        "outputId": "1df4c91d-7558-4422-9ad5-c6e8d3bd9669"
      },
      "execution_count": null,
      "outputs": [
        {
          "output_type": "stream",
          "name": "stdout",
          "text": [
            "['Rice', 'Dal', 'Onion', 'Oil', 'Salt']\n"
          ]
        }
      ]
    },
    {
      "cell_type": "code",
      "source": [
        "groceries.remove('Oil')\n",
        "print(groceries)"
      ],
      "metadata": {
        "colab": {
          "base_uri": "https://localhost:8080/"
        },
        "id": "co9NvzhUWHPC",
        "outputId": "a6fe50fd-5702-4eeb-f954-f02bae7df109"
      },
      "execution_count": null,
      "outputs": [
        {
          "output_type": "stream",
          "name": "stdout",
          "text": [
            "['Rice', 'Onion', 'Salt']\n"
          ]
        }
      ]
    },
    {
      "cell_type": "code",
      "source": [
        "name = 'Rahat'\n",
        "if name == 'Rahat':\n",
        "  print('Hello Rahat!')\n",
        "if name == 'Sony':\n",
        "  print('Hello Sony')\n",
        "elif name == 'Risita':\n",
        "  print('Hello Risita')\n",
        "else:\n",
        "  print('Who are you then?')"
      ],
      "metadata": {
        "colab": {
          "base_uri": "https://localhost:8080/"
        },
        "id": "d_1B57EvWaZf",
        "outputId": "02300382-569e-4a1c-f48c-5fd0b7e20197"
      },
      "execution_count": null,
      "outputs": [
        {
          "output_type": "stream",
          "name": "stdout",
          "text": [
            "Hello Rahat!\n",
            "Who are you then?\n"
          ]
        }
      ]
    }
  ]
}