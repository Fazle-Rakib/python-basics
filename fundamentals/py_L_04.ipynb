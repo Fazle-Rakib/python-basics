{
  "nbformat": 4,
  "nbformat_minor": 0,
  "metadata": {
    "colab": {
      "provenance": []
    },
    "kernelspec": {
      "name": "python3",
      "display_name": "Python 3"
    },
    "language_info": {
      "name": "python"
    }
  },
  "cells": [
    {
      "cell_type": "markdown",
      "source": [
        "* print with parameter passing\n",
        "* operators & operand\n",
        "* import statement\n",
        "* argument\n",
        "* Errors: syntax, runtime, semantic"
      ],
      "metadata": {
        "id": "42LzBB5QMXsn"
      }
    },
    {
      "cell_type": "markdown",
      "source": [
        "# Print() function"
      ],
      "metadata": {
        "id": "_fdLlEQ8Pqaf"
      }
    },
    {
      "cell_type": "code",
      "execution_count": 12,
      "metadata": {
        "colab": {
          "base_uri": "https://localhost:8080/"
        },
        "id": "s4Id5gg-JPXw",
        "outputId": "442e0fcb-2b83-486f-bc2f-2081c403bcdd"
      },
      "outputs": [
        {
          "output_type": "stream",
          "name": "stdout",
          "text": [
            "10 + 10.5\n",
            "= 20.5\n"
          ]
        }
      ],
      "source": [
        "a = 10\n",
        "b = 10.5\n",
        "c = \" This is a number addition \"\n",
        "name = \"Printer\"\n",
        "print(a, b, sep=\" + \", end = \"\\n\")\n",
        "print('=', a+b)"
      ]
    },
    {
      "cell_type": "markdown",
      "source": [
        "# Operators and operands"
      ],
      "metadata": {
        "id": "R6b6bREhRSXL"
      }
    },
    {
      "cell_type": "code",
      "source": [
        "print(2 + 5)\n",
        "print(2 - 5)\n",
        "print(2 * 5)\n",
        "print(2 / 5)\n",
        "\n",
        "# 2^5\n",
        "print(2 ** 5)\n",
        "\n",
        "# 5 mod 2 = 1\n",
        "print(5 % 2)\n"
      ],
      "metadata": {
        "colab": {
          "base_uri": "https://localhost:8080/"
        },
        "id": "4OTmWeBZPwgz",
        "outputId": "8a0bfb0f-5293-42c5-96d8-927f512cd147"
      },
      "execution_count": 16,
      "outputs": [
        {
          "output_type": "stream",
          "name": "stdout",
          "text": [
            "7\n",
            "-3\n",
            "10\n",
            "0.4\n",
            "32\n",
            "1\n"
          ]
        }
      ]
    },
    {
      "cell_type": "code",
      "source": [
        "# Integer Divison\n",
        "print(9 // 5, type(9//5))"
      ],
      "metadata": {
        "colab": {
          "base_uri": "https://localhost:8080/"
        },
        "id": "GIcXDjL6Rqv_",
        "outputId": "8e0af59f-0ba4-4c02-e4e6-81f18e60fd38"
      },
      "execution_count": 20,
      "outputs": [
        {
          "output_type": "stream",
          "name": "stdout",
          "text": [
            "1 <class 'int'>\n"
          ]
        }
      ]
    },
    {
      "cell_type": "code",
      "source": [
        "# Assignment operator\n",
        "# Statement\n",
        "a = 10\n",
        "b = 10.5\n",
        "\n",
        "# Expression\n",
        "print(10/5)"
      ],
      "metadata": {
        "colab": {
          "base_uri": "https://localhost:8080/"
        },
        "id": "948rBII4STUH",
        "outputId": "b639d8d2-ccfa-4123-cee4-f0826f62a437"
      },
      "execution_count": 21,
      "outputs": [
        {
          "output_type": "stream",
          "name": "stdout",
          "text": [
            "2.0\n",
            "20.5\n"
          ]
        }
      ]
    },
    {
      "cell_type": "code",
      "source": [
        "a = 10\n",
        "b = 3\n",
        "a %= b\n",
        "print(a)"
      ],
      "metadata": {
        "colab": {
          "base_uri": "https://localhost:8080/"
        },
        "id": "c9w5ZqncTnah",
        "outputId": "ef059822-fef1-442b-e2b7-8890e2417548"
      },
      "execution_count": 23,
      "outputs": [
        {
          "output_type": "stream",
          "name": "stdout",
          "text": [
            "1\n"
          ]
        }
      ]
    },
    {
      "cell_type": "code",
      "source": [
        "a = 10\n",
        "b = 3\n",
        "# a %= b\n",
        "# a == b\n",
        "# a != b\n",
        "# a > b\n",
        "# a < b\n",
        "a <= b"
      ],
      "metadata": {
        "colab": {
          "base_uri": "https://localhost:8080/"
        },
        "id": "jk_xx8s5UDf3",
        "outputId": "94f27ae3-6bca-4453-cb8a-3a756569c96e"
      },
      "execution_count": 31,
      "outputs": [
        {
          "output_type": "execute_result",
          "data": {
            "text/plain": [
              "False"
            ]
          },
          "metadata": {},
          "execution_count": 31
        }
      ]
    },
    {
      "cell_type": "code",
      "source": [],
      "metadata": {
        "id": "hY9HpFoPULhC"
      },
      "execution_count": null,
      "outputs": []
    },
    {
      "cell_type": "markdown",
      "source": [
        "# import a module"
      ],
      "metadata": {
        "id": "3_C4S1KFVTIW"
      }
    },
    {
      "cell_type": "code",
      "source": [
        "import math\n",
        "print(math.pi)\n",
        "\n",
        "# 2^5 ==> 2**5\n",
        "print(math.pow(2,5))"
      ],
      "metadata": {
        "colab": {
          "base_uri": "https://localhost:8080/"
        },
        "id": "IAZ-PeYbVSAd",
        "outputId": "78cd169a-8500-4a02-bbc9-ae8709b2a907"
      },
      "execution_count": 33,
      "outputs": [
        {
          "output_type": "stream",
          "name": "stdout",
          "text": [
            "3.141592653589793\n",
            "32.0\n"
          ]
        }
      ]
    },
    {
      "cell_type": "code",
      "source": [
        "print(math.floor(1.22334))"
      ],
      "metadata": {
        "colab": {
          "base_uri": "https://localhost:8080/"
        },
        "id": "BIRkxxEpVe3V",
        "outputId": "929300d1-6d5b-4279-e73b-28e1a33c0540"
      },
      "execution_count": 34,
      "outputs": [
        {
          "output_type": "stream",
          "name": "stdout",
          "text": [
            "1\n"
          ]
        }
      ]
    },
    {
      "cell_type": "code",
      "source": [
        "print(math.ceil(1.22334))"
      ],
      "metadata": {
        "colab": {
          "base_uri": "https://localhost:8080/"
        },
        "id": "wHDzR6qoWhWh",
        "outputId": "76adc9ba-50c9-40be-eb4d-8efdf8af5111"
      },
      "execution_count": 35,
      "outputs": [
        {
          "output_type": "stream",
          "name": "stdout",
          "text": [
            "2\n"
          ]
        }
      ]
    },
    {
      "cell_type": "code",
      "source": [
        "import math"
      ],
      "metadata": {
        "id": "MAUuisZDXNsQ"
      },
      "execution_count": 2,
      "outputs": []
    },
    {
      "cell_type": "code",
      "source": [
        "print(math.ceil(1.22334))"
      ],
      "metadata": {
        "colab": {
          "base_uri": "https://localhost:8080/"
        },
        "id": "lXQRHd-uW6dS",
        "outputId": "bdd1adb8-5baf-4f31-eb59-db890df6eda1"
      },
      "execution_count": 3,
      "outputs": [
        {
          "output_type": "stream",
          "name": "stdout",
          "text": [
            "2\n"
          ]
        }
      ]
    },
    {
      "cell_type": "code",
      "source": [
        "print(math.round(1.22334))"
      ],
      "metadata": {
        "id": "yf1EbGofXHuK"
      },
      "execution_count": null,
      "outputs": []
    },
    {
      "cell_type": "markdown",
      "source": [
        "# Errros"
      ],
      "metadata": {
        "id": "t81TSGnWX6pY"
      }
    },
    {
      "cell_type": "code",
      "source": [
        "print(i am a student)"
      ],
      "metadata": {
        "colab": {
          "base_uri": "https://localhost:8080/",
          "height": 106
        },
        "id": "IdGDDg_wXYtr",
        "outputId": "509acd70-fd3b-49ce-d671-3ca788776a8e"
      },
      "execution_count": 5,
      "outputs": [
        {
          "output_type": "error",
          "ename": "SyntaxError",
          "evalue": "invalid syntax. Perhaps you forgot a comma? (<ipython-input-5-924f08a9d875>, line 1)",
          "traceback": [
            "\u001b[0;36m  File \u001b[0;32m\"<ipython-input-5-924f08a9d875>\"\u001b[0;36m, line \u001b[0;32m1\u001b[0m\n\u001b[0;31m    print(i am a student)\u001b[0m\n\u001b[0m          ^\u001b[0m\n\u001b[0;31mSyntaxError\u001b[0m\u001b[0;31m:\u001b[0m invalid syntax. Perhaps you forgot a comma?\n"
          ]
        }
      ]
    },
    {
      "cell_type": "code",
      "source": [
        "print(2/0)\n",
        "\n",
        "5 = b"
      ],
      "metadata": {
        "colab": {
          "base_uri": "https://localhost:8080/",
          "height": 141
        },
        "id": "KBRHCb7GX5-N",
        "outputId": "69975de5-cdf0-4252-9dd4-34cfd42c02be"
      },
      "execution_count": 6,
      "outputs": [
        {
          "output_type": "error",
          "ename": "ZeroDivisionError",
          "evalue": "division by zero",
          "traceback": [
            "\u001b[0;31m---------------------------------------------------------------------------\u001b[0m",
            "\u001b[0;31mZeroDivisionError\u001b[0m                         Traceback (most recent call last)",
            "\u001b[0;32m<ipython-input-6-d2c0889640ff>\u001b[0m in \u001b[0;36m<cell line: 1>\u001b[0;34m()\u001b[0m\n\u001b[0;32m----> 1\u001b[0;31m \u001b[0mprint\u001b[0m\u001b[0;34m(\u001b[0m\u001b[0;36m2\u001b[0m\u001b[0;34m/\u001b[0m\u001b[0;36m0\u001b[0m\u001b[0;34m)\u001b[0m\u001b[0;34m\u001b[0m\u001b[0;34m\u001b[0m\u001b[0m\n\u001b[0m",
            "\u001b[0;31mZeroDivisionError\u001b[0m: division by zero"
          ]
        }
      ]
    },
    {
      "cell_type": "code",
      "source": [
        "a = 10\n",
        "b = 5\n",
        "if a == b:\n",
        "  print(\"a is equal b\")"
      ],
      "metadata": {
        "colab": {
          "base_uri": "https://localhost:8080/"
        },
        "id": "u846hQKgYPJM",
        "outputId": "2160c1a2-ae42-4367-f12c-02cec3fb1de1"
      },
      "execution_count": 7,
      "outputs": [
        {
          "output_type": "stream",
          "name": "stdout",
          "text": [
            "a is equal b\n"
          ]
        }
      ]
    },
    {
      "cell_type": "code",
      "source": [],
      "metadata": {
        "id": "kDCHiYVrZSQt"
      },
      "execution_count": null,
      "outputs": []
    },
    {
      "cell_type": "markdown",
      "source": [
        "# Play with loop"
      ],
      "metadata": {
        "id": "fzomGWMZZ0ZR"
      }
    },
    {
      "cell_type": "code",
      "source": [
        "for i in range(3):\n",
        "  for j in range(3):\n",
        "    print(i,j, end=\" | \")\n",
        "  print()"
      ],
      "metadata": {
        "colab": {
          "base_uri": "https://localhost:8080/"
        },
        "id": "fbkPuoJhZzwp",
        "outputId": "cdb1b2d9-1de3-45fd-dc29-955c2a742c44"
      },
      "execution_count": 11,
      "outputs": [
        {
          "output_type": "stream",
          "name": "stdout",
          "text": [
            "0 0 | 0 1 | 0 2 | \n",
            "1 0 | 1 1 | 1 2 | \n",
            "2 0 | 2 1 | 2 2 | \n"
          ]
        }
      ]
    },
    {
      "cell_type": "code",
      "source": [
        "for i in range(3):\n",
        "  for j in range(3):\n",
        "    if i == j:\n",
        "      print(\"*\", end=\"\")\n",
        "    else:\n",
        "      print(\"_\",end=\"\")\n",
        "  print()"
      ],
      "metadata": {
        "colab": {
          "base_uri": "https://localhost:8080/"
        },
        "id": "5vdSv7k-bFCT",
        "outputId": "f9e0bccf-0b27-4a8a-82e7-bb50ad52ec99"
      },
      "execution_count": 14,
      "outputs": [
        {
          "output_type": "stream",
          "name": "stdout",
          "text": [
            "*__\n",
            "_*_\n",
            "__*\n"
          ]
        }
      ]
    },
    {
      "cell_type": "code",
      "source": [],
      "metadata": {
        "id": "3ywTduoRdBpi"
      },
      "execution_count": null,
      "outputs": []
    }
  ]
}