{
  "nbformat": 4,
  "nbformat_minor": 0,
  "metadata": {
    "colab": {
      "provenance": []
    },
    "kernelspec": {
      "name": "python3",
      "display_name": "Python 3"
    },
    "language_info": {
      "name": "python"
    }
  },
  "cells": [
    {
      "cell_type": "markdown",
      "source": [
        "\n",
        "\n",
        "*   Functions\n",
        "*   parameters, arguments, function calling\n",
        "*   function naming\n",
        "*   Solving a problem with function\n",
        "*   local & global var\n",
        "\n"
      ],
      "metadata": {
        "id": "z43kdgTxe_av"
      }
    },
    {
      "cell_type": "code",
      "execution_count": 2,
      "metadata": {
        "colab": {
          "base_uri": "https://localhost:8080/"
        },
        "id": "PUz7h9RcXYBV",
        "outputId": "2f53570c-9e9a-4e9d-ab3b-8275fe0a5040"
      },
      "outputs": [
        {
          "output_type": "stream",
          "name": "stdout",
          "text": [
            "5\n"
          ]
        }
      ],
      "source": [
        "a = 5.6\n",
        "a = int(a)\n",
        "print(a)"
      ]
    },
    {
      "cell_type": "code",
      "source": [
        "def get_name(): #header\n",
        "  # body\n",
        "  # ...\n",
        "  return 'Kausar'"
      ],
      "metadata": {
        "id": "Rb_bPhqSfnfc"
      },
      "execution_count": 4,
      "outputs": []
    },
    {
      "cell_type": "code",
      "source": [
        "get_name()"
      ],
      "metadata": {
        "colab": {
          "base_uri": "https://localhost:8080/",
          "height": 35
        },
        "id": "7sgYT7J9gfG_",
        "outputId": "cee82d5a-ed8e-4bbc-cdaf-89d1bf18ded0"
      },
      "execution_count": 5,
      "outputs": [
        {
          "output_type": "execute_result",
          "data": {
            "text/plain": [
              "'Kausar'"
            ],
            "application/vnd.google.colaboratory.intrinsic+json": {
              "type": "string"
            }
          },
          "metadata": {},
          "execution_count": 5
        }
      ]
    },
    {
      "cell_type": "code",
      "source": [
        "# parameters\n",
        "def sum(a,b):\n",
        "  return(a+b)"
      ],
      "metadata": {
        "id": "TZ_BIBq2hRnI"
      },
      "execution_count": 17,
      "outputs": []
    },
    {
      "cell_type": "code",
      "source": [
        "def sum_of_three(a,b,c):\n",
        "  sum_of_two = sum(a,b)\n",
        "  sum_of_all = sum(sum_of_two, c)\n",
        "  return(sum_of_all)"
      ],
      "metadata": {
        "id": "y88ZEA03huHL"
      },
      "execution_count": 18,
      "outputs": []
    },
    {
      "cell_type": "code",
      "source": [
        "# arguments\n",
        "total_sum = sum_of_three(5,100,-45)\n",
        "print(total_sum)"
      ],
      "metadata": {
        "colab": {
          "base_uri": "https://localhost:8080/"
        },
        "id": "mZ4aH9wKhXSb",
        "outputId": "5f64a95f-3a6f-47ea-9ef0-7942a8c9c51a"
      },
      "execution_count": 19,
      "outputs": [
        {
          "output_type": "stream",
          "name": "stdout",
          "text": [
            "60\n"
          ]
        }
      ]
    },
    {
      "cell_type": "code",
      "source": [
        "return_val = sum(1,2)\n",
        "print('return_val', return_val)"
      ],
      "metadata": {
        "colab": {
          "base_uri": "https://localhost:8080/"
        },
        "id": "xJZgKIpA0DCJ",
        "outputId": "16731699-bb14-486b-fd25-f72cdaa9eedf"
      },
      "execution_count": 28,
      "outputs": [
        {
          "output_type": "stream",
          "name": "stdout",
          "text": [
            "3\n",
            "return_val 3\n"
          ]
        }
      ]
    },
    {
      "cell_type": "markdown",
      "source": [
        "## Local & global variable"
      ],
      "metadata": {
        "id": "ohgZADLM22o9"
      }
    },
    {
      "cell_type": "code",
      "source": [
        "def sum(a,b):\n",
        "  c = a+b\n",
        "  # print(f\"c = {c}\")\n",
        "  return c"
      ],
      "metadata": {
        "id": "_XtBahMxgns7"
      },
      "execution_count": 35,
      "outputs": []
    },
    {
      "cell_type": "code",
      "source": [
        "total = sum(1,2)\n",
        "# print(f\"c = {c}\")"
      ],
      "metadata": {
        "id": "hcUsLtdWztKB"
      },
      "execution_count": 37,
      "outputs": []
    },
    {
      "cell_type": "code",
      "source": [
        "def sum_with_pi(a):\n",
        "  c = a+pi\n",
        "  print(f\"c = {c}\")"
      ],
      "metadata": {
        "id": "7BqNEwGd3Mzn"
      },
      "execution_count": 38,
      "outputs": []
    },
    {
      "cell_type": "code",
      "source": [
        "pi = 3.1416\n",
        "sum_with_pi(100)"
      ],
      "metadata": {
        "colab": {
          "base_uri": "https://localhost:8080/"
        },
        "id": "AIG48-zd3KjX",
        "outputId": "1a2e3b2b-3e99-4cad-a594-5c6068bba237"
      },
      "execution_count": 39,
      "outputs": [
        {
          "output_type": "stream",
          "name": "stdout",
          "text": [
            "c = 103.1416\n"
          ]
        }
      ]
    },
    {
      "cell_type": "markdown",
      "source": [
        "## Function naming(same as var naming)"
      ],
      "metadata": {
        "id": "6lPvDGWlOl1p"
      }
    },
    {
      "cell_type": "code",
      "source": [
        "def sum():\n",
        "  return 0\n",
        "\n",
        "def sum 1():\n",
        "  return 0\n",
        "\n",
        "\n",
        "def 1sum():\n",
        "  return 0\n",
        "\n",
        "def sum123():\n",
        "  return 0\n",
        "\n"
      ],
      "metadata": {
        "id": "M0UFOlDy8pIm"
      },
      "execution_count": null,
      "outputs": []
    },
    {
      "cell_type": "markdown",
      "source": [
        "## keywords are not valid for any kinds of naming(var, fun...)\n",
        "**Keywords in Python include:** *False, True, None, and, as, assert, async, await, def, del, elif, else, break, class, continue, except, finally, for, from, global, if, import, in, is, lambda, nonlocal, not, or, pass, raise, return, try, while, with and yield.*"
      ],
      "metadata": {
        "id": "XvMhNjrv9N6S"
      }
    },
    {
      "cell_type": "code",
      "source": [
        "def True():\n",
        "  return 0"
      ],
      "metadata": {
        "colab": {
          "base_uri": "https://localhost:8080/",
          "height": 106
        },
        "id": "P1QGsmjC9F3z",
        "outputId": "dcd90a6b-4dee-4a87-def8-4dfc2ddc75b3"
      },
      "execution_count": 40,
      "outputs": [
        {
          "output_type": "error",
          "ename": "SyntaxError",
          "evalue": "invalid syntax (<ipython-input-40-e61b58b8e1e5>, line 1)",
          "traceback": [
            "\u001b[0;36m  File \u001b[0;32m\"<ipython-input-40-e61b58b8e1e5>\"\u001b[0;36m, line \u001b[0;32m1\u001b[0m\n\u001b[0;31m    def True():\u001b[0m\n\u001b[0m        ^\u001b[0m\n\u001b[0;31mSyntaxError\u001b[0m\u001b[0;31m:\u001b[0m invalid syntax\n"
          ]
        }
      ]
    }
  ]
}