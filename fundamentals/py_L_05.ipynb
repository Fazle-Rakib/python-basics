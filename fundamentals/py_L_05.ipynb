{
  "cells": [
    {
      "cell_type": "markdown",
      "metadata": {
        "id": "z43kdgTxe_av"
      },
      "source": [
        "\n",
        "\n",
        "*   Functions\n",
        "*   parameters, arguments, function calling\n",
        "*   function naming\n",
        "*   Solving a problem with function\n",
        "*   local & global var\n",
        "\n"
      ]
    },
    {
      "cell_type": "code",
      "execution_count": 2,
      "metadata": {
        "colab": {
          "base_uri": "https://localhost:8080/"
        },
        "id": "PUz7h9RcXYBV",
        "outputId": "2f53570c-9e9a-4e9d-ab3b-8275fe0a5040"
      },
      "outputs": [
        {
          "name": "stdout",
          "output_type": "stream",
          "text": [
            "5\n"
          ]
        }
      ],
      "source": [
        "a = 5.6\n",
        "a = int(a)\n",
        "print(a)"
      ]
    },
    {
      "cell_type": "code",
      "execution_count": 4,
      "metadata": {
        "id": "Rb_bPhqSfnfc"
      },
      "outputs": [],
      "source": [
        "def get_name(): #header\n",
        "  # body\n",
        "  # ...\n",
        "  return 'Kausar'"
      ]
    },
    {
      "cell_type": "code",
      "execution_count": 5,
      "metadata": {
        "colab": {
          "base_uri": "https://localhost:8080/",
          "height": 35
        },
        "id": "7sgYT7J9gfG_",
        "outputId": "cee82d5a-ed8e-4bbc-cdaf-89d1bf18ded0"
      },
      "outputs": [
        {
          "data": {
            "application/vnd.google.colaboratory.intrinsic+json": {
              "type": "string"
            },
            "text/plain": [
              "'Kausar'"
            ]
          },
          "execution_count": 5,
          "metadata": {},
          "output_type": "execute_result"
        }
      ],
      "source": [
        "get_name()"
      ]
    },
    {
      "cell_type": "code",
      "execution_count": 17,
      "metadata": {
        "id": "TZ_BIBq2hRnI"
      },
      "outputs": [],
      "source": [
        "# parameters\n",
        "def sum(a,b):\n",
        "  return(a+b)"
      ]
    },
    {
      "cell_type": "code",
      "execution_count": 18,
      "metadata": {
        "id": "y88ZEA03huHL"
      },
      "outputs": [],
      "source": [
        "def sum_of_three(a,b,c):\n",
        "  sum_of_two = sum(a,b)\n",
        "  sum_of_all = sum(sum_of_two, c)\n",
        "  return(sum_of_all)"
      ]
    },
    {
      "cell_type": "code",
      "execution_count": 19,
      "metadata": {
        "colab": {
          "base_uri": "https://localhost:8080/"
        },
        "id": "mZ4aH9wKhXSb",
        "outputId": "5f64a95f-3a6f-47ea-9ef0-7942a8c9c51a"
      },
      "outputs": [
        {
          "name": "stdout",
          "output_type": "stream",
          "text": [
            "60\n"
          ]
        }
      ],
      "source": [
        "# arguments\n",
        "total_sum = sum_of_three(5,100,-45)\n",
        "print(total_sum)"
      ]
    },
    {
      "cell_type": "code",
      "execution_count": 28,
      "metadata": {
        "colab": {
          "base_uri": "https://localhost:8080/"
        },
        "id": "xJZgKIpA0DCJ",
        "outputId": "16731699-bb14-486b-fd25-f72cdaa9eedf"
      },
      "outputs": [
        {
          "name": "stdout",
          "output_type": "stream",
          "text": [
            "3\n",
            "return_val 3\n"
          ]
        }
      ],
      "source": [
        "return_val = sum(1,2)\n",
        "print('return_val', return_val)"
      ]
    },
    {
      "cell_type": "markdown",
      "metadata": {
        "id": "ohgZADLM22o9"
      },
      "source": [
        "## local & global variable"
      ]
    },
    {
      "cell_type": "code",
      "execution_count": 35,
      "metadata": {
        "id": "_XtBahMxgns7"
      },
      "outputs": [],
      "source": [
        "def sum(a,b):\n",
        "  c = a+b\n",
        "  # print(f\"c = {c}\")\n",
        "  return c"
      ]
    },
    {
      "cell_type": "code",
      "execution_count": 37,
      "metadata": {
        "id": "hcUsLtdWztKB"
      },
      "outputs": [],
      "source": [
        "total = sum(1,2)\n",
        "# print(f\"c = {c}\")"
      ]
    },
    {
      "cell_type": "code",
      "execution_count": 38,
      "metadata": {
        "id": "7BqNEwGd3Mzn"
      },
      "outputs": [],
      "source": [
        "def sum_with_pi(a):\n",
        "  c = a+pi\n",
        "  print(f\"c = {c}\")"
      ]
    },
    {
      "cell_type": "code",
      "execution_count": 39,
      "metadata": {
        "colab": {
          "base_uri": "https://localhost:8080/"
        },
        "id": "AIG48-zd3KjX",
        "outputId": "1a2e3b2b-3e99-4cad-a594-5c6068bba237"
      },
      "outputs": [
        {
          "name": "stdout",
          "output_type": "stream",
          "text": [
            "c = 103.1416\n"
          ]
        }
      ],
      "source": [
        "pi = 3.1416\n",
        "sum_with_pi(100)"
      ]
    },
    {
      "cell_type": "markdown",
      "metadata": {
        "id": "6lPvDGWlOl1p"
      },
      "source": [
        "## Function naming(same as var naming)"
      ]
    },
    {
      "cell_type": "code",
      "execution_count": null,
      "metadata": {
        "id": "M0UFOlDy8pIm"
      },
      "outputs": [],
      "source": [
        "def sum():\n",
        "  return 0\n",
        "\n",
        "def sum 1():\n",
        "  return 0\n",
        "\n",
        "\n",
        "def 1sum():\n",
        "  return 0\n",
        "\n",
        "def sum123():\n",
        "  return 0\n",
        "\n"
      ]
    },
    {
      "cell_type": "markdown",
      "metadata": {
        "id": "XvMhNjrv9N6S"
      },
      "source": [
        "## keywords are not valid for any kinds of naming(var, fun...)\n",
        "**Keywords in Python include:** *False, True, None, and, as, assert, async, await, def, del, elif, else, break, class, continue, except, finally, for, from, global, if, import, in, is, lambda, nonlocal, not, or, pass, raise, return, try, while, with and yield.*"
      ]
    },
    {
      "cell_type": "code",
      "execution_count": 40,
      "metadata": {
        "colab": {
          "base_uri": "https://localhost:8080/",
          "height": 106
        },
        "id": "P1QGsmjC9F3z",
        "outputId": "dcd90a6b-4dee-4a87-def8-4dfc2ddc75b3"
      },
      "outputs": [
        {
          "ename": "SyntaxError",
          "evalue": "invalid syntax (<ipython-input-40-e61b58b8e1e5>, line 1)",
          "output_type": "error",
          "traceback": [
            "\u001b[0;36m  File \u001b[0;32m\"<ipython-input-40-e61b58b8e1e5>\"\u001b[0;36m, line \u001b[0;32m1\u001b[0m\n\u001b[0;31m    def True():\u001b[0m\n\u001b[0m        ^\u001b[0m\n\u001b[0;31mSyntaxError\u001b[0m\u001b[0;31m:\u001b[0m invalid syntax\n"
          ]
        }
      ],
      "source": [
        "def True():\n",
        "  return 0"
      ]
    }
  ],
  "metadata": {
    "colab": {
      "provenance": []
    },
    "kernelspec": {
      "display_name": "Python 3",
      "name": "python3"
    },
    "language_info": {
      "name": "python"
    }
  },
  "nbformat": 4,
  "nbformat_minor": 0
}
