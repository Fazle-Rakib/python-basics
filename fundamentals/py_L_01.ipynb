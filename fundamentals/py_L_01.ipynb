{
  "nbformat": 4,
  "nbformat_minor": 0,
  "metadata": {
    "colab": {
      "provenance": []
    },
    "kernelspec": {
      "name": "python3",
      "display_name": "Python 3"
    },
    "language_info": {
      "name": "python"
    }
  },
  "cells": [
    {
      "cell_type": "markdown",
      "source": [
        "Printing My first python code"
      ],
      "metadata": {
        "id": "x_d-iT4n8Sx_"
      }
    },
    {
      "cell_type": "code",
      "execution_count": null,
      "metadata": {
        "colab": {
          "base_uri": "https://localhost:8080/"
        },
        "id": "Gl01N4WQ2QuT",
        "outputId": "cbf92f14-be90-444c-ad5e-e050f83b6eed"
      },
      "outputs": [
        {
          "output_type": "stream",
          "name": "stdout",
          "text": [
            "Hello World!\n"
          ]
        }
      ],
      "source": [
        "print(\"Hello World!\")"
      ]
    },
    {
      "cell_type": "markdown",
      "source": [
        "string manipulation with upper, strip, capitalize"
      ],
      "metadata": {
        "id": "InD5kXfx8dQJ"
      }
    },
    {
      "cell_type": "code",
      "source": [
        "student_name = '     i am not dipto.    '\n",
        "print(student_name.capitalize())\n",
        "print(student_name.strip())"
      ],
      "metadata": {
        "colab": {
          "base_uri": "https://localhost:8080/"
        },
        "id": "UVMCmeN73zhi",
        "outputId": "1a5a8ad6-9bec-4e9e-931a-af144d727c15"
      },
      "execution_count": null,
      "outputs": [
        {
          "output_type": "stream",
          "name": "stdout",
          "text": [
            "     i am not dipto.    \n",
            "i am not dipto.\n"
          ]
        }
      ]
    },
    {
      "cell_type": "code",
      "source": [
        "print(student_name)\n",
        "student_name = student_name.strip()\n",
        "print(student_name)\n",
        "student_name = student_name.capitalize()\n",
        "print(student_name)"
      ],
      "metadata": {
        "colab": {
          "base_uri": "https://localhost:8080/"
        },
        "id": "AkAkynnS6vq1",
        "outputId": "ae472a90-4c23-426a-f0f3-0c181a020af4"
      },
      "execution_count": null,
      "outputs": [
        {
          "output_type": "stream",
          "name": "stdout",
          "text": [
            "     i am not dipto.    \n",
            "i am not dipto.\n",
            "I am not dipto.\n"
          ]
        }
      ]
    },
    {
      "cell_type": "code",
      "source": [
        "student_name = '     i am not dipto.    '\n",
        "print(student_name.strip().capitalize())"
      ],
      "metadata": {
        "colab": {
          "base_uri": "https://localhost:8080/"
        },
        "id": "M_dpwfmn7Po8",
        "outputId": "64444607-a3fe-4217-8118-c825852f3d52"
      },
      "execution_count": null,
      "outputs": [
        {
          "output_type": "stream",
          "name": "stdout",
          "text": [
            "I am not dipto.\n"
          ]
        }
      ]
    }
  ]
}